{
 "cells": [
  {
   "cell_type": "code",
   "execution_count": 21,
   "metadata": {},
   "outputs": [],
   "source": [
    "# creating and instiantiating classes\n",
    "# They logically group our data and functions in a way that's easy to reuse and also easy to build upon if need be\n",
    "# when we say data and functions that are associated with specific class, we call those as attributes and methods. "
   ]
  },
  {
   "cell_type": "code",
   "execution_count": 22,
   "metadata": {},
   "outputs": [
    {
     "name": "stdout",
     "output_type": "stream",
     "text": [
      "<__main__.Student object at 0x0000019A1DC81190>\n",
      "<__main__.Student object at 0x0000019A1DC81BE0>\n"
     ]
    }
   ],
   "source": [
    "# what is a class - class is a blue print for creating objects\n",
    "# syntax to create a class is class keyword followed by class name\n",
    "class Student:\n",
    "    pass\n",
    "stu1=Student()\n",
    "stu2=Student()\n",
    "# what is object - physical existence of class is nothing but object we can create any no of objects for that student class.\n",
    "# It means we can create the any no of students for Student class\n",
    "# Syntax to create object - referencevariable=classname()\n",
    "print(stu1)\n",
    "print(stu2)"
   ]
  },
  {
   "cell_type": "code",
   "execution_count": 23,
   "metadata": {},
   "outputs": [],
   "source": [
    "# why we write a class\n",
    "# 1. We can write a class to represent properties (attributes) and actions (behaviour) of object\n",
    "# 2. properties can be represented by variables\n",
    "# 3. Actions can be represented by methods.\n",
    "# 4. Hence class contain both variables and methods.\n",
    "# 5. In Python class we represent data by using variables\n",
    "# 6. With in python class we represent operations by using methods."
   ]
  },
  {
   "cell_type": "code",
   "execution_count": 24,
   "metadata": {},
   "outputs": [],
   "source": [
    "# There are three types of variables allowed\n",
    "# 1.Instance variables (Object level variables)\n",
    "# 2. Static variables (class level variables)\n",
    "# 3. Local variables (method level variables)"
   ]
  },
  {
   "cell_type": "code",
   "execution_count": 25,
   "metadata": {},
   "outputs": [],
   "source": [
    "# There are three types of methods allowed\n",
    "# 1. Instance methods \n",
    "# 2. class methods\n",
    "# 3. Static methods"
   ]
  },
  {
   "cell_type": "code",
   "execution_count": 26,
   "metadata": {},
   "outputs": [],
   "source": [
    "# instance variable - instance variable contain data that is unique to each instance"
   ]
  },
  {
   "cell_type": "code",
   "execution_count": 27,
   "metadata": {},
   "outputs": [],
   "source": [
    "# now we will manually create a instance variables for each student by doing like this"
   ]
  },
  {
   "cell_type": "code",
   "execution_count": 28,
   "metadata": {},
   "outputs": [
    {
     "name": "stdout",
     "output_type": "stream",
     "text": [
      "aravind.reddy@company.com\n",
      "rahul.krishna@company.com\n"
     ]
    }
   ],
   "source": [
    "class Student:\n",
    "    pass\n",
    "stu1=Student()\n",
    "stu2=Student()\n",
    "\n",
    "stu1.first='aravind'\n",
    "stu1.last='reddy'\n",
    "stu1.email='aravind.reddy@company.com'\n",
    "stu1.pay=100000\n",
    "\n",
    "stu2.first='rahul'\n",
    "stu2.last='krishna'\n",
    "stu2.email='rahul.krishna@company.com'\n",
    "stu2.pay=100000\n",
    "print(stu1.email)\n",
    "print(stu2.email)"
   ]
  },
  {
   "cell_type": "code",
   "execution_count": 29,
   "metadata": {},
   "outputs": [
    {
     "name": "stdout",
     "output_type": "stream",
     "text": [
      "Aravind.Reddy@gmail.com\n",
      "Rahul.krishna@gmail.com\n"
     ]
    }
   ],
   "source": [
    "# Now inside our Student class I am going to create special __init__ method\n",
    "# 1. When we create a method with in a class it receive the instance as the first argument automatically and by convention.We should call this instance as self\n",
    "class Student:\n",
    "    def __init__(self,first,last,fee):\n",
    "        self.first=first\n",
    "        self.last=last\n",
    "        self.fee=fee\n",
    "        self.email=first+'.'+last+'@gmail.com'\n",
    "stu1=Student('Aravind','Reddy',86000)\n",
    "stu2=Student('Rahul','krishna',80000)\n",
    "# when we create an student object the init method runs automatically, stu1 passes in as self and then it will set all of these attributes.\n",
    "print(stu1.email)\n",
    "print(stu2.email)"
   ]
  },
  {
   "cell_type": "code",
   "execution_count": 30,
   "metadata": {},
   "outputs": [
    {
     "name": "stdout",
     "output_type": "stream",
     "text": [
      "Aravind Reddy\n",
      "Rahul krishna\n"
     ]
    }
   ],
   "source": [
    "# Now let's create a method with in our class that allows us to put this functionality in one place.\n",
    "class Student:\n",
    "    def __init__(self,first,last,fee):\n",
    "        self.first=first\n",
    "        self.last=last\n",
    "        self.fee=fee\n",
    "        self.email=first+'.'+last+'@gmail.com'\n",
    "    def fullname(self):\n",
    "        return '{} {}'.format(self.first,self.last) # code reusability\n",
    "stu1=Student('Aravind','Reddy',86000)\n",
    "stu2=Student('Rahul','krishna',80000)\n",
    "print(stu1.fullname())\n",
    "print(stu2.fullname())"
   ]
  },
  {
   "cell_type": "code",
   "execution_count": 31,
   "metadata": {},
   "outputs": [],
   "source": [
    "# class variables are variables that are shared among all instances of a class.\n",
    "# instance variables are variables that are unique for each instance like our name,email,fee etc;\n",
    "# class variables should be same for all instance of that class."
   ]
  },
  {
   "cell_type": "code",
   "execution_count": 32,
   "metadata": {},
   "outputs": [
    {
     "name": "stdout",
     "output_type": "stream",
     "text": [
      "86000\n",
      "88580\n"
     ]
    }
   ],
   "source": [
    "# let's the college gives the annual fees raise every year that amount can be changed year by year what ever the amount is it's going to be same for all students.\n",
    "class Student:\n",
    "    raise_fee_amount=1.03 #class variable\n",
    "    def __init__(self,first,last,fee):\n",
    "        self.first=first\n",
    "        self.last=last\n",
    "        self.fee=fee\n",
    "        self.email=first+'.'+last+'@gmail.com'\n",
    "    def fullname(self):\n",
    "        return '{} {}'.format(self.first,self.last)\n",
    "    # how we can access the class variable inside method - by using class itself or instance of class (self)\n",
    "    def apply_raise(self):\n",
    "        self.fee=int(self.fee*Student.raise_fee_amount)\n",
    "stu1=Student('Aravind','Reddy',86000)\n",
    "stu2=Student('Rahul','krishna',80000)\n",
    "print(stu1.fee)\n",
    "stu1.apply_raise()\n",
    "print(stu1.fee)"
   ]
  },
  {
   "cell_type": "code",
   "execution_count": 33,
   "metadata": {},
   "outputs": [
    {
     "name": "stdout",
     "output_type": "stream",
     "text": [
      "86000\n",
      "88580\n"
     ]
    }
   ],
   "source": [
    "# Accessing the class variables through instance\n",
    "class Student:\n",
    "    raise_fee_amount=1.03 #class variable\n",
    "    def __init__(self,first,last,fee):\n",
    "        self.first=first\n",
    "        self.last=last\n",
    "        self.fee=fee\n",
    "        self.email=first+'.'+last+'@gmail.com'\n",
    "    def fullname(self):\n",
    "        return '{} {}'.format(self.first,self.last)\n",
    "    # how we can access the class variable inside method - by using class itself or instance of class (self)\n",
    "    def apply_raise(self):\n",
    "        self.fee=int(self.fee*self.raise_fee_amount)\n",
    "stu1=Student('Aravind','Reddy',86000)\n",
    "stu2=Student('Rahul','krishna',80000)\n",
    "print(stu1.fee)\n",
    "stu1.apply_raise()\n",
    "print(stu1.fee)"
   ]
  }
 ],
 "metadata": {
  "kernelspec": {
   "display_name": "Python 3",
   "language": "python",
   "name": "python3"
  },
  "language_info": {
   "codemirror_mode": {
    "name": "ipython",
    "version": 3
   },
   "file_extension": ".py",
   "mimetype": "text/x-python",
   "name": "python",
   "nbconvert_exporter": "python",
   "pygments_lexer": "ipython3",
   "version": "3.8.3"
  }
 },
 "nbformat": 4,
 "nbformat_minor": 4
}
