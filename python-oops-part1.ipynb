{
 "cells": [
  {
   "cell_type": "code",
   "execution_count": 1,
   "metadata": {},
   "outputs": [],
   "source": [
    "#creating and instiantiating classes\n",
    "# They logically group our data and functions in a way that's easy to reuse and also easy to build upon if need be\n",
    "#when we say data and functions that are associated with specific class, we call those as attributes and methods. "
   ]
  },
  {
   "cell_type": "code",
   "execution_count": 2,
   "metadata": {},
   "outputs": [],
   "source": [
    "#eg: if we have a company and we wanted to represent employees in our python code.This would be a great use case for a class because each individual employee is going to have specific attributes and methods.\n",
    "# for example each employee is going to have name and email address and pay and also actions they can perform.\n",
    "# it would be nice if we had a class that we could use as a blueprint to create each employee so that we didn't have to do this manually each time from scratch."
   ]
  },
  {
   "cell_type": "code",
   "execution_count": 3,
   "metadata": {},
   "outputs": [],
   "source": [
    "# now we have a simple employee class with no attributes and methods.\n",
    "class Employee:\n",
    "    pass"
   ]
  },
  {
   "cell_type": "code",
   "execution_count": 4,
   "metadata": {},
   "outputs": [],
   "source": [
    "# difference between class and instance of a class.\n",
    "# class is basically a blueprint for creating instances\n",
    "# Each unique employee that we create using our employee class will be an instance of that class."
   ]
  },
  {
   "cell_type": "code",
   "execution_count": 5,
   "metadata": {},
   "outputs": [],
   "source": [
    "class Employee:\n",
    "    pass\n",
    "#these are going to be their own unique instance of the employee class\n",
    "emp1=Employee()\n",
    "emp2=Employee()  "
   ]
  },
  {
   "cell_type": "code",
   "execution_count": 6,
   "metadata": {},
   "outputs": [
    {
     "name": "stdout",
     "output_type": "stream",
     "text": [
      "<__main__.Employee object at 0x000001FE98740CD0>\n",
      "<__main__.Employee object at 0x000001FE9875FEE0>\n"
     ]
    }
   ],
   "source": [
    "class Employee:\n",
    "    pass\n",
    "emp1=Employee()\n",
    "emp2=Employee()\n",
    "print(emp1)\n",
    "print(emp2)\n",
    "# Both of these are employee objects and both are unique and they both have different locations here in memory now."
   ]
  },
  {
   "cell_type": "code",
   "execution_count": 7,
   "metadata": {},
   "outputs": [],
   "source": [
    "  # instance variables - instance variables contain data that is unique to each instance"
   ]
  },
  {
   "cell_type": "code",
   "execution_count": 8,
   "metadata": {},
   "outputs": [
    {
     "name": "stdout",
     "output_type": "stream",
     "text": [
      "aravind.reddy@company.com\n",
      "rahul.krishna@company.com\n"
     ]
    }
   ],
   "source": [
    "# now we manually create instance variables for each employee by doing like this\n",
    "class Employee:\n",
    "    pass\n",
    "emp1=Employee()\n",
    "emp2=Employee()\n",
    "\n",
    "emp1.first='aravind'\n",
    "emp1.last='reddy'\n",
    "emp1.email='aravind.reddy@company.com'\n",
    "emp1.pay=100000\n",
    "\n",
    "emp2.first='rahul'\n",
    "emp2.last='krishna'\n",
    "emp2.email='rahul.krishna@company.com'\n",
    "emp2.pay=100000\n",
    "print(emp1.email)\n",
    "print(emp2.email)"
   ]
  },
  {
   "cell_type": "code",
   "execution_count": 9,
   "metadata": {},
   "outputs": [
    {
     "name": "stdout",
     "output_type": "stream",
     "text": [
      "aravind.reddy@company.com\n",
      "rahul.reddy@company.com\n"
     ]
    }
   ],
   "source": [
    "# now inside og our employee class i am going to create special init method \n",
    "class Employee:\n",
    "    # when we create a method with in a class they receive the instance as the first argument automatically and by convention. We should call the instance as the self.\n",
    "    # after the self we can specify what are the arguments that we want to accept\n",
    "    def __init__(self,first,last,pay):\n",
    "        self.first=first\n",
    "        self.last=last\n",
    "        self.pay=pay\n",
    "        self.email=first+'.'+last+'@company.com'  \n",
    "# pass the values specified in the init method, now our method takes the instance which we call as self and the firstname, last and pay as argument.\n",
    "# but when we create employee the instance is automatically passed \n",
    "emp1=Employee('aravind','reddy',100000) # when we create this employee the init method runs automatically, emp1 will be passes in as self and then it will set all of these attributes.\n",
    "emp2=Employee('rahul','reddy',80000)\n",
    "print(emp1.email)\n",
    "print(emp2.email)"
   ]
  },
  {
   "cell_type": "code",
   "execution_count": 10,
   "metadata": {},
   "outputs": [
    {
     "name": "stdout",
     "output_type": "stream",
     "text": [
      "aravind reddy\n"
     ]
    }
   ],
   "source": [
    "# if we wanted to perform some kind of action to do that we can use the methods\n",
    "# so if we wanted to display the full name of employee now.\n",
    "print('{} {}'.format(emp1.first,emp1.last))\n",
    "\n",
    "# it will take much time to display the employees full name like this we want to create every time like for every employee."
   ]
  },
  {
   "cell_type": "code",
   "execution_count": 11,
   "metadata": {},
   "outputs": [
    {
     "name": "stdout",
     "output_type": "stream",
     "text": [
      "aravind reddy\n",
      "rahul reddy\n"
     ]
    }
   ],
   "source": [
    "#now let's create a method with in our class that allows us to put this functionality in one place.\n",
    "class Employee:\n",
    "    def __init__(self,first,last,pay):\n",
    "        self.first=first\n",
    "        self.last=last\n",
    "        self.pay=pay\n",
    "        self.email=first+'.'+last+'@company.com'\n",
    "    def fullname(self): \n",
    "        return '{} {}'.format(self.first,self.last) #code reusability.\n",
    "emp1=Employee('aravind','reddy',100000) \n",
    "emp2=Employee('rahul','reddy',80000)\n",
    "print(emp1.fullname()) #it is method that's why we kept the paranthesis\n",
    "print(emp2.fullname())"
   ]
  },
  {
   "cell_type": "code",
   "execution_count": 12,
   "metadata": {},
   "outputs": [
    {
     "name": "stdout",
     "output_type": "stream",
     "text": [
      "aravind reddy\n"
     ]
    }
   ],
   "source": [
    "# we can run these methods by using class name itself.\n",
    "print(Employee.fullname(emp1)) #when we run it from the class we have to manually pass the instance as an argument"
   ]
  },
  {
   "cell_type": "code",
   "execution_count": 13,
   "metadata": {},
   "outputs": [],
   "source": [
    "# class variables are variables that are shared among all instances of a class.\n",
    "# instance variables are variables that are unique for each instance like our name,email,fee etc;\n",
    "# class variables should be same for all instance of that class."
   ]
  },
  {
   "cell_type": "code",
   "execution_count": 16,
   "metadata": {},
   "outputs": [
    {
     "name": "stdout",
     "output_type": "stream",
     "text": [
      "100000\n",
      "104000\n"
     ]
    }
   ],
   "source": [
    "# let's the company gives the annual raise every year that amount can be changed year by year what ever the amount is it's going to be same for all employees.\n",
    "class Employee:\n",
    "    raise_amount=1.04\n",
    "    def __init__(self,first,last,pay):\n",
    "        self.first=first\n",
    "        self.last=last\n",
    "        self.pay=pay\n",
    "        self.email=first+'.'+last+'@company.com'\n",
    "    def fullname(self):\n",
    "        return '{} {}'.format(self.first,self.last)\n",
    "    def apply_raise(self):\n",
    "        self.pay=int(self.pay*Employee.raise_amount) # we can access the class variables either using class itself or instance of class \n",
    "emp1=Employee('aravind','reddy',100000) \n",
    "emp2=Employee('rahul','reddy',80000)\n",
    "print(emp1.pay)\n",
    "emp1.apply_raise()\n",
    "print(emp1.pay)"
   ]
  },
  {
   "cell_type": "code",
   "execution_count": 18,
   "metadata": {},
   "outputs": [
    {
     "name": "stdout",
     "output_type": "stream",
     "text": [
      "80000\n",
      "83200\n"
     ]
    }
   ],
   "source": [
    "# Accessing the class variables through instance\n",
    "class Employee:\n",
    "    raise_amount=1.04\n",
    "    def __init__(self,first,last,pay):\n",
    "        self.first=first\n",
    "        self.last=last\n",
    "        self.pay=pay\n",
    "        self.email=first+'.'+last+'@company.com'\n",
    "    def fullname(self):\n",
    "        return '{} {}'.format(self.first,self.last)\n",
    "    def apply_raise(self):\n",
    "        self.pay=int(self.pay*self.raise_amount) # we can access the class variables either using class itself or instance of class \n",
    "emp1=Employee('aravind','reddy',100000) \n",
    "emp2=Employee('rahul','reddy',80000)\n",
    "print(emp2.pay)\n",
    "emp2.apply_raise()\n",
    "print(emp2.pay)"
   ]
  },
  {
   "cell_type": "code",
   "execution_count": 21,
   "metadata": {},
   "outputs": [
    {
     "name": "stdout",
     "output_type": "stream",
     "text": [
      "1.04\n",
      "1.04\n",
      "1.04\n",
      "{'first': 'aravind', 'last': 'reddy', 'pay': 100000, 'email': 'aravind.reddy@company.com'}\n",
      "{'__module__': '__main__', 'raise_amount': 1.04, '__init__': <function Employee.__init__ at 0x000001FE98798A60>, 'fullname': <function Employee.fullname at 0x000001FE98798790>, 'apply_raise': <function Employee.apply_raise at 0x000001FE98798550>, '__dict__': <attribute '__dict__' of 'Employee' objects>, '__weakref__': <attribute '__weakref__' of 'Employee' objects>, '__doc__': None}\n"
     ]
    }
   ],
   "source": [
    "# we can access the raise_amount by both class itself and as well as fom instances\n",
    "print(Employee.raise_amount)\n",
    "print(emp1.raise_amount)\n",
    "print(emp2.raise_amount) \n",
    "# if we are trying to access the attribute on an instance it will first check if the instance contains that attribute and if doesn't then it will see if the class or any class or any class that it inherits from contains that attribute.\n",
    "# so when we access the raise amount from our instances they do not have that attribute them selves they are accessing the classes raiseamount attribute.\n",
    "print(emp1.__dict__)\n",
    "print(Employee.__dict__)"
   ]
  },
  {
   "cell_type": "code",
   "execution_count": 22,
   "metadata": {},
   "outputs": [
    {
     "name": "stdout",
     "output_type": "stream",
     "text": [
      "1.05\n",
      "1.05\n",
      "1.05\n"
     ]
    }
   ],
   "source": [
    "Employee.raise_amount=1.05\n",
    "print(Employee.raise_amount)\n",
    "print(emp1.raise_amount)\n",
    "print(emp2.raise_amount)"
   ]
  },
  {
   "cell_type": "code",
   "execution_count": 23,
   "metadata": {},
   "outputs": [
    {
     "name": "stdout",
     "output_type": "stream",
     "text": [
      "1.05\n",
      "1.04\n",
      "1.05\n"
     ]
    }
   ],
   "source": [
    "emp1.raise_amount=1.04\n",
    "#If we try to change class variable using object, a new instance variable for that particular object is created\n",
    "print(Employee.raise_amount)\n",
    "print(emp1.raise_amount)\n",
    "print(emp2.raise_amount)"
   ]
  },
  {
   "cell_type": "code",
   "execution_count": 25,
   "metadata": {},
   "outputs": [
    {
     "name": "stdout",
     "output_type": "stream",
     "text": [
      "0\n",
      "2\n"
     ]
    }
   ],
   "source": [
    "# now we have to keep track of employees that we have, so the no of employees should be same for  all instances of the class, so if i created a class variable\n",
    "class Employee:\n",
    "    no_of_employees=0\n",
    "    raise_amount=1.04\n",
    "    def __init__(self,first,last,pay):\n",
    "        self.first=first\n",
    "        self.last=last\n",
    "        self.pay=pay\n",
    "        self.email=first+'.'+last+'@company.com'\n",
    "        Employee.no_of_employees+=1   #since init method runs every time we create a new employee\n",
    "    def fullname(self):\n",
    "        return '{} {}'.format(self.first,self.last)\n",
    "    def apply_raise(self):\n",
    "        self.pay=int(self.pay*Employee.raise_amount)\n",
    "print(Employee.no_of_employees)\n",
    "emp1=Employee('aravind','reddy',100000)\n",
    "emp2=Employee('rahul','krishna',85000)\n",
    "print(Employee.no_of_employees)"
   ]
  },
  {
   "cell_type": "code",
   "execution_count": 28,
   "metadata": {},
   "outputs": [
    {
     "name": "stdout",
     "output_type": "stream",
     "text": [
      "1.05\n",
      "1.05\n",
      "1.05\n"
     ]
    }
   ],
   "source": [
    "# regular methods class methods and static methods\n",
    "\n",
    "#regular methods are also called as instance methods in a class automatically takes the instance as the first argument and by convention we are calling this as self. \n",
    "# how can we change this so that it instead automatically takes the class as the first argument now to do that we use class methods.\n",
    "# to turn regular method in to class method it's easy as adding a decorator to the top called class method.\n",
    "class Employee:\n",
    "    no_of_employees=0\n",
    "    raise_amount=1.04\n",
    "    def __init__(self,first,last,pay):\n",
    "        self.first=first\n",
    "        self.last=last\n",
    "        self.pay=pay\n",
    "        self.email=first+'.'+last+'@company.com'\n",
    "        Employee.no_of_employees+=1   #since init method runs every time we create a new employee\n",
    "    def fullname(self):\n",
    "        return '{} {}'.format(self.first,self.last)\n",
    "    def apply_raise(self):\n",
    "        self.pay=int(self.pay*Employee.raise_amount)\n",
    "    @classmethod\n",
    "    def set_raise_amount(cls,amount):\n",
    "        cls.raise_amount=amount\n",
    "emp1=Employee('aravind','reddy',100000)\n",
    "emp2=Employee('rahul','krishna',85000)\n",
    "# let's we wanted to change the raise_amount to 5%.\n",
    "Employee.set_raise_amount(1.05)\n",
    "#Employee.raise_amount=1.05 both are equal\n",
    "print(Employee.raise_amount)\n",
    "print(emp1.raise_amount)\n",
    "print(emp2.raise_amount)"
   ]
  },
  {
   "cell_type": "code",
   "execution_count": 29,
   "metadata": {},
   "outputs": [
    {
     "name": "stdout",
     "output_type": "stream",
     "text": [
      "1.04\n",
      "1.04\n",
      "1.04\n"
     ]
    }
   ],
   "source": [
    "# we can run class methods from instances as well.\n",
    "emp1.set_raise_amount(1.04)\n",
    "print(Employee.raise_amount)\n",
    "print(emp1.raise_amount)\n",
    "print(emp2.raise_amount)"
   ]
  },
  {
   "cell_type": "code",
   "execution_count": 36,
   "metadata": {},
   "outputs": [],
   "source": [
    "# we can use class methods as alternative constructors, we can use these class methods in order to provide multiple ways of creating our objects.\n",
    "# use case\n",
    "#emp1_str_1='aravind-reddy-100000'\n",
    "#emp2_str_2='rahul-reddy-80000'\n",
    "# to create a new employee first we need to split the string with '-'\n",
    "#first,last,pay=emp1_str_1.split('-')\n",
    "# based on those values we would be able to create a new employee. "
   ]
  },
  {
   "cell_type": "code",
   "execution_count": 50,
   "metadata": {},
   "outputs": [
    {
     "name": "stdout",
     "output_type": "stream",
     "text": [
      "murari.mahith@company.com\n",
      "90000\n"
     ]
    }
   ],
   "source": [
    "# create an alternative constructor that allows them to pass on the string and we create an employee for them\n",
    "class Employee:\n",
    "    no_of_employees=0\n",
    "    raise_amount=1.04\n",
    "    def __init__(self,first,last,pay):\n",
    "        self.first=first\n",
    "        self.last=last\n",
    "        self.pay=pay\n",
    "        self.email=first+'.'+last+'@company.com'\n",
    "        Employee.no_of_employees+=1\n",
    "    def fullname(self):\n",
    "        return '{} {}'.format(self.first,self.last)\n",
    "    def apply_raise(self):\n",
    "        self.pay=int(self.pay*self.raise_amount)\n",
    "    @classmethod\n",
    "    def set_raise_amount(cls,amount):\n",
    "        cls.raise_amount=amount\n",
    "    @classmethod\n",
    "    def from_string(cls,new_emp):\n",
    "        first,last,pay=new_emp.split('-')\n",
    "        return cls(first,last,pay)\n",
    "\n",
    "new_emp=Employee.from_string('murari-mahith-90000')\n",
    "print(new_emp.email)\n",
    "print(new_emp.pay)"
   ]
  },
  {
   "cell_type": "code",
   "execution_count": 51,
   "metadata": {},
   "outputs": [
    {
     "name": "stdout",
     "output_type": "stream",
     "text": [
      "True\n"
     ]
    }
   ],
   "source": [
    "#regular methods automatically pass the instance as first argument.\n",
    "# class methods automatically pass the class as the first argument and we can call that as cls.\n",
    "# static methods do not pass anything automatically.\n",
    "class Employee:\n",
    "    no_of_employees=0\n",
    "    raise_amount=1.04\n",
    "    def __init__(self,first,last,pay):\n",
    "        self.first=first\n",
    "        self.last=last\n",
    "        self.pay=pay\n",
    "        self.email=first+'.'+last+'@company.com'\n",
    "        Employee.no_of_employees+=1\n",
    "    def fullname(self):\n",
    "        return '{} {}'.format(self.first,self.last)\n",
    "    def apply_raise(self):\n",
    "        self.pay=int(self.pay*self.raise_amount)\n",
    "    @classmethod\n",
    "    def set_raise_amount(cls,amount):\n",
    "        cls.raise_amount=amount\n",
    "    @classmethod\n",
    "    def from_string(cls,new_emp):\n",
    "        first,last,pay=new_emp.split('-')\n",
    "        return cls(first,last,pay)\n",
    "    @staticmethod\n",
    "    def is_workday(day):\n",
    "        if day.weekday()==5 or day.weekday()==6:\n",
    "            return False\n",
    "        return True\n",
    "emp1=Employee('aravind','reddy',100000)\n",
    "import datetime\n",
    "my_date=datetime.date(2016,7,8)\n",
    "print(Employee.is_workday(my_date))"
   ]
  },
  {
   "cell_type": "code",
   "execution_count": 52,
   "metadata": {},
   "outputs": [],
   "source": [
    "# inheritance- inheritance allows us to inherit the attributes and methods from a parent class.\n",
    "# In this we will create a sub classes and get all of the functionalities of our parent class and we can override and add completely new functionality without affecting the parent class in anyway. "
   ]
  },
  {
   "cell_type": "code",
   "execution_count": 53,
   "metadata": {},
   "outputs": [
    {
     "name": "stdout",
     "output_type": "stream",
     "text": [
      "chris.hemsworth@company.com\n",
      "chris.evans@company.com\n"
     ]
    }
   ],
   "source": [
    "# Let's we want to create developers and managers this will be good candidates for subclasses\n",
    "# because both developers and managers have name,email and salary.\n",
    "class Employee:\n",
    "    no_of_employees=0\n",
    "    raise_amount=1.04\n",
    "    def __init__(self,first,last,pay):\n",
    "        self.first=first\n",
    "        self.last=last\n",
    "        self.pay=pay\n",
    "        self.email=first+'.'+last+'@company.com'\n",
    "        Employee.no_of_employees+=1\n",
    "    def fullname(self):\n",
    "        return '{} {}'.format(self.first,self.last)\n",
    "    def apply_raise(self):\n",
    "        self.pay=int(self.pay*self.raise_amount)\n",
    "class Developer(Employee): #In the paranthesis what class we want to inherit from\n",
    "    pass\n",
    "# Even with out code the developer class have attributes and methods of our employee class.\n",
    "dev1=Developer('chris','hemsworth',100000)\n",
    "dev2=Developer('chris','evans',80000)\n",
    "print(dev1.email)\n",
    "print(dev2.email)\n",
    "# we can access all of the atrributes and methods set in the parent employee class.\n",
    "# when we insantiated our developers it first look our developer class for init method and it's not going to find within developer class, Python is going to do then is walk with this chain of inheritance until it finds what's looking for, now this chain is called method resolution order.   "
   ]
  },
  {
   "cell_type": "code",
   "execution_count": 55,
   "metadata": {},
   "outputs": [
    {
     "name": "stdout",
     "output_type": "stream",
     "text": [
      "100000\n",
      "110000\n"
     ]
    }
   ],
   "source": [
    "class Employee:\n",
    "    no_of_employees=0\n",
    "    raise_amount=1.04\n",
    "    def __init__(self,first,last,pay):\n",
    "        self.first=first\n",
    "        self.last=last\n",
    "        self.pay=pay\n",
    "        self.email=first+'.'+last+'@company.com'\n",
    "        Employee.no_of_employees+=1\n",
    "    def fullname(self):\n",
    "        return '{} {}'.format(self.first,self.last)\n",
    "    def apply_raise(self):\n",
    "        self.pay=int(self.pay*self.raise_amount)\n",
    "class Developer(Employee):\n",
    "    raise_amount=1.10 #adding the raise_amount to developer class\n",
    "dev1=Developer('chris','hemsworth',100000)\n",
    "dev2=Developer('chris','evans',80000)\n",
    "print(dev1.pay)\n",
    "dev1.apply_raise()\n",
    "print(dev1.pay)"
   ]
  },
  {
   "cell_type": "code",
   "execution_count": 56,
   "metadata": {},
   "outputs": [
    {
     "name": "stdout",
     "output_type": "stream",
     "text": [
      "c\n",
      "python\n"
     ]
    }
   ],
   "source": [
    "# some times we want to initiate our subclasses with more information then our parent class can handle\n",
    "# in the developer class we want pass programming language as an attribute.\n",
    "class Employee:\n",
    "    no_of_employees=0\n",
    "    raise_amount=1.04\n",
    "    def __init__(self,first,last,pay):\n",
    "        self.first=first\n",
    "        self.last=last\n",
    "        self.pay=pay\n",
    "        self.email=first+'.'+last+'@company.com'\n",
    "        Employee.no_of_employees+=1\n",
    "    def fullname(self):\n",
    "        return '{} {}'.format(self.first,self.last)\n",
    "    def apply_raise(self):\n",
    "        self.pay=int(self.pay*self.raise_amount)\n",
    "class Developer(Employee):\n",
    "    raise_amount=1.10 #adding the raise_amount to developer class\n",
    "    def __init__(self,first,last,pay,prog_lang):\n",
    "        super().__init__(first,last,pay) #this will inherit all the atrributes from the parent class\n",
    "        self.prog_lang=prog_lang\n",
    "dev1=Developer('chris','hemsworth',100000,'c')\n",
    "dev2=Developer('chris','evans',80000,'python')\n",
    "print(dev1.prog_lang)\n",
    "print(dev2.prog_lang)"
   ]
  },
  {
   "cell_type": "code",
   "execution_count": 63,
   "metadata": {},
   "outputs": [
    {
     "name": "stdout",
     "output_type": "stream",
     "text": [
      "sachin.tendulkar@company.com\n",
      "--> chris evans\n"
     ]
    }
   ],
   "source": [
    "#create subclass manager\n",
    "class Employee:\n",
    "    no_of_employees=0\n",
    "    raise_amount=1.04\n",
    "    def __init__(self,first,last,pay):\n",
    "        self.first=first\n",
    "        self.last=last\n",
    "        self.pay=pay\n",
    "        self.email=first+'.'+last+'@company.com'\n",
    "        Employee.no_of_employees+=1\n",
    "    def fullname(self):\n",
    "        return '{} {}'.format(self.first,self.last)\n",
    "    def apply_raise(self):\n",
    "        self.pay=int(self.pay*self.raise_amount)\n",
    "class Developer(Employee):\n",
    "    raise_amount=1.10 #adding the raise_amount to developer class\n",
    "    def __init__(self,first,last,pay,prog_lang):\n",
    "        super().__init__(first,last,pay) #this will inherit all the atrributes from the parent class\n",
    "        self.prog_lang=prog_lang\n",
    "class Manager(Employee): #here we give a list of employeess that manager supervises\n",
    "    def __init__(self,first,last,pay,employees=None): # we never pass types like list or dictionary as default arguments\n",
    "        super().__init__(first,last,pay)\n",
    "        if employees is None:\n",
    "            self.employees=[]\n",
    "        else:\n",
    "            self.employees=employees\n",
    "    def add_emp(self,emp):\n",
    "        if emp not in self.employees:\n",
    "            self.employees.append(emp)\n",
    "    def remove_emp(self,emp):\n",
    "        if emp in self.employees:\n",
    "            self.employees.remove(emp)\n",
    "    def print_emps(self):\n",
    "        for emp in self.employees:\n",
    "            print('-->',emp.fullname())\n",
    "dev1=Developer('chris','hemsworth',100000,'c')\n",
    "dev2=Developer('chris','evans',80000,'python')\n",
    "mgr1=Manager('sachin','tendulkar',80000,[dev1])\n",
    "print(mgr1.email)\n",
    "mgr1.add_emp(dev2)\n",
    "mgr1.remove_emp(dev1)\n",
    "mgr1.print_emps()"
   ]
  },
  {
   "cell_type": "code",
   "execution_count": 68,
   "metadata": {},
   "outputs": [
    {
     "name": "stdout",
     "output_type": "stream",
     "text": [
      "True\n",
      "True\n",
      "False\n",
      "True\n",
      "True\n",
      "False\n"
     ]
    }
   ],
   "source": [
    "# is instance and is subclass\n",
    "# is instance will tell us if an object is an instance of the class.\n",
    "class Employee:\n",
    "    no_of_employees=0\n",
    "    raise_amount=1.04\n",
    "    def __init__(self,first,last,pay):\n",
    "        self.first=first\n",
    "        self.last=last\n",
    "        self.pay=pay\n",
    "        self.email=first+'.'+last+'@company.com'\n",
    "        Employee.no_of_employees+=1\n",
    "    def fullname(self):\n",
    "        return '{} {}'.format(self.first,self.last)\n",
    "    def apply_raise(self):\n",
    "        self.pay=int(self.pay*self.raise_amount)\n",
    "class Developer(Employee):\n",
    "    raise_amount=1.10 #adding the raise_amount to developer class\n",
    "    def __init__(self,first,last,pay,prog_lang):\n",
    "        super().__init__(first,last,pay) #this will inherit all the atrributes from the parent class\n",
    "        self.prog_lang=prog_lang\n",
    "class Manager(Employee): #here we give a list of employeess that manager supervises\n",
    "    def __init__(self,first,last,pay,employees=None): # we never pass types like list or dictionary as default arguments\n",
    "        super().__init__(first,last,pay)\n",
    "        if employees is None:\n",
    "            self.employees=[]\n",
    "        else:\n",
    "            self.employees=employees\n",
    "    def add_emp(self,emp):\n",
    "        if emp not in self.employees:\n",
    "            self.employees.append(emp)\n",
    "    def remove_emp(self,emp):\n",
    "        if emp in self.employees:\n",
    "            self.employees.remove(emp)\n",
    "    def print_emps(self):\n",
    "        for emp in self.employees:\n",
    "            print('-->',emp.fullname())\n",
    "dev1=Developer('chris','hemsworth',100000,'c')\n",
    "dev2=Developer('chris','evans',80000,'python')\n",
    "mgr1=Manager('sachin','tendulkar',80000,[dev1]) \n",
    "print(isinstance(mgr1,Manager))\n",
    "print(isinstance(mgr1,Employee))\n",
    "print(isinstance(mgr1,Developer))\n",
    "\n",
    "#subclass will tell us if a class is a subclass of another \n",
    "print(issubclass(Developer,Employee))\n",
    "print(issubclass(Manager,Employee))\n",
    "print(issubclass(Employee,Developer))"
   ]
  },
  {
   "cell_type": "code",
   "execution_count": 76,
   "metadata": {},
   "outputs": [
    {
     "name": "stdout",
     "output_type": "stream",
     "text": [
      "rahul\n",
      "rahul.reddy@email.com\n",
      "rahul reddy\n"
     ]
    }
   ],
   "source": [
    "# setter and getter and deleter \n",
    "class Employee:\n",
    "    def __init__(self,first,last):\n",
    "        self.first=first\n",
    "        self.last=last\n",
    "    def email(self):\n",
    "        return'{}.{}@email.com'.format(self.first,self.last)\n",
    "    def fullname(self):\n",
    "        return '{} {}'.format(self.first,self.last)\n",
    "emp1=Employee('aravind','reddy')\n",
    "#emp1.first='rahul' #every time we run the fullname method it comes and grab the first name and lastname.\n",
    "# we want to update the email automatically when we change the first name and lastname.\n",
    "emp1.first='rahul'\n",
    "print(emp1.first)\n",
    "print(emp1.email())\n",
    "print(emp1.fullname())"
   ]
  },
  {
   "cell_type": "code",
   "execution_count": 81,
   "metadata": {},
   "outputs": [
    {
     "name": "stdout",
     "output_type": "stream",
     "text": [
      "rahul\n",
      "rahul.krishna@email.com\n",
      "rahul krishna\n",
      "Delete name!\n"
     ]
    }
   ],
   "source": [
    "# if we want to access email like an attribute add the property decorator\n",
    "class Employee:\n",
    "    def __init__(self,first,last):\n",
    "        self.first=first\n",
    "        self.last=last\n",
    "    @property\n",
    "    def email(self):\n",
    "        return'{}.{}@email.com'.format(self.first,self.last)\n",
    "    @property\n",
    "    def fullname(self):\n",
    "        return '{} {}'.format(self.first,self.last)\n",
    "    @fullname.setter\n",
    "    def fullname(self,name):\n",
    "        first,last=name.split(' ')\n",
    "        self.first=first\n",
    "        self.last=last\n",
    "    @fullname.deleter\n",
    "    def fullname(self):\n",
    "        print('Delete name!')\n",
    "        self.first=None\n",
    "        self.last=None\n",
    "emp1=Employee('aravind','reddy')\n",
    "#emp1.first='rahul' #every time we run the fullname method it comes and grab the first name and lastname.\n",
    "# we want to update the email automatically when we change the first name and lastname.\n",
    "#emp1.first='rahul'\n",
    "emp1.fullname='rahul krishna'\n",
    "print(emp1.first)\n",
    "print(emp1.email)\n",
    "print(emp1.fullname)\n",
    "del emp1.fullname"
   ]
  },
  {
   "cell_type": "code",
   "execution_count": 85,
   "metadata": {},
   "outputs": [
    {
     "name": "stdout",
     "output_type": "stream",
     "text": [
      "name:aravind\n",
      "rollno:112\n"
     ]
    }
   ],
   "source": [
    "#__str__ method --> to return meaningful string representation we have to override __str__() method.\n",
    "class Student:\n",
    "    def __init__(self,name,rollno):\n",
    "        self.name=name\n",
    "        self.rollno=rollno\n",
    "    def __str__(self):\n",
    "        return 'name:{}\\nrollno:{}'.format(self.name,self.rollno)\n",
    "s1=Student('aravind',112)\n",
    "print(s1)"
   ]
  },
  {
   "cell_type": "code",
   "execution_count": 86,
   "metadata": {},
   "outputs": [
    {
     "name": "stdout",
     "output_type": "stream",
     "text": [
      "2020-09-04 18:38:38.985528\n"
     ]
    },
    {
     "ename": "SyntaxError",
     "evalue": "leading zeros in decimal integer literals are not permitted; use an 0o prefix for octal integers (<string>, line 1)",
     "output_type": "error",
     "traceback": [
      "Traceback \u001b[1;36m(most recent call last)\u001b[0m:\n",
      "  File \u001b[0;32m\"C:\\Users\\Lakshmiprasad\\anaconda3\\lib\\site-packages\\IPython\\core\\interactiveshell.py\"\u001b[0m, line \u001b[0;32m3343\u001b[0m, in \u001b[0;35mrun_code\u001b[0m\n    exec(code_obj, self.user_global_ns, self.user_ns)\n",
      "\u001b[1;36m  File \u001b[1;32m\"<ipython-input-86-47d1614b0d5f>\"\u001b[1;36m, line \u001b[1;32m8\u001b[1;36m, in \u001b[1;35m<module>\u001b[1;36m\u001b[0m\n\u001b[1;33m    d=eval(s)\u001b[0m\n",
      "\u001b[1;36m  File \u001b[1;32m\"<string>\"\u001b[1;36m, line \u001b[1;32m1\u001b[0m\n\u001b[1;33m    2020-09-04 18:38:38.985528\u001b[0m\n\u001b[1;37m          ^\u001b[0m\n\u001b[1;31mSyntaxError\u001b[0m\u001b[1;31m:\u001b[0m leading zeros in decimal integer literals are not permitted; use an 0o prefix for octal integers\n"
     ]
    }
   ],
   "source": [
    "#difference between __repr__ and __str__\n",
    "# str internally calls __str__ function\n",
    "#str returns a string containing a nicely printable representation object.\n",
    "# The main goal of str() is for readability. It may not possible to convert result string to original object\n",
    "import datetime\n",
    "today=datetime.datetime.now()\n",
    "s=str(today)\n",
    "print(s)\n",
    "d=eval(s)"
   ]
  },
  {
   "cell_type": "code",
   "execution_count": 88,
   "metadata": {},
   "outputs": [
    {
     "name": "stdout",
     "output_type": "stream",
     "text": [
      "datetime.datetime(2020, 9, 4, 18, 41, 49, 592864)\n",
      "2020-09-04 18:41:49.592864\n",
      "datetime.datetime(2020, 9, 4, 18, 41, 49, 592864)\n"
     ]
    }
   ],
   "source": [
    "#repr : but repr() returns a string containing a printable representation of object.\n",
    "# the main goal of repr() is unambigious. We can convert result string to original object by usin eval() function\n",
    "import datetime\n",
    "today=datetime.datetime.now()\n",
    "s=repr(today)\n",
    "print(s)\n",
    "d=eval(s)\n",
    "print(d)\n",
    "# it is recommended to use repr() instead of str()"
   ]
  },
  {
   "cell_type": "code",
   "execution_count": 3,
   "metadata": {},
   "outputs": [
    {
     "name": "stdout",
     "output_type": "stream",
     "text": [
      "eat biriyani\n",
      "coding\n",
      "prasad\n",
      "45\n",
      "100\n",
      "10000\n",
      "car info:\n",
      "Innova\n",
      "2.5v\n",
      "black\n",
      "\n"
     ]
    }
   ],
   "source": [
    "# is vs has a relationship\n",
    "class car:\n",
    "    def __init__(self,name,model,color):\n",
    "        self.name=name\n",
    "        self.model=model\n",
    "        self.color=color\n",
    "    def get_info(self):\n",
    "        print('{}\\n{}\\n{}\\n'.format(self.name,self.model,self.color))\n",
    "class person:\n",
    "    def __init__(self,name,age):\n",
    "        self.name=name\n",
    "        self.age=age\n",
    "    def eat(self):\n",
    "        print(\"eat biriyani\")\n",
    "class Employee(person):\n",
    "    def __init__(self,name,age,eno,esal,car):\n",
    "        super().__init__(name,age)\n",
    "        self.eno=eno\n",
    "        self.esal=esal\n",
    "        self.car=car\n",
    "    def work(self):\n",
    "        print(\"coding\")\n",
    "    def empinfo(self):\n",
    "        print(self.name)\n",
    "        print(self.age)\n",
    "        print(self.eno)\n",
    "        print(self.esal)\n",
    "        print(\"car info:\")\n",
    "        self.car.get_info()\n",
    "c=car('Innova','2.5v','black')\n",
    "e=Employee('prasad',45,100,10000,c)\n",
    "e.eat()\n",
    "e.work()\n",
    "e.empinfo()"
   ]
  },
  {
   "cell_type": "code",
   "execution_count": 4,
   "metadata": {},
   "outputs": [
    {
     "name": "stdout",
     "output_type": "stream",
     "text": [
      "parent method\n",
      "child method\n"
     ]
    }
   ],
   "source": [
    "# single inheritance\n",
    "class P:\n",
    "    def m1(self):\n",
    "        print(\"parent method\")\n",
    "class C(P):\n",
    "    def m2(self):\n",
    "        print(\"child method\")\n",
    "c=C()\n",
    "c.m1()\n",
    "c.m2()"
   ]
  },
  {
   "cell_type": "code",
   "execution_count": 6,
   "metadata": {},
   "outputs": [
    {
     "name": "stdout",
     "output_type": "stream",
     "text": [
      "parent method\n",
      "child method\n",
      "sub child method\n"
     ]
    }
   ],
   "source": [
    "class P:\n",
    "    def m1(self):\n",
    "        print(\"parent method\")\n",
    "class C(P):\n",
    "    def m2(self):\n",
    "        print(\"child method\")\n",
    "class CC(C):\n",
    "    def m3(self):\n",
    "        print(\"sub child method\")\n",
    "c=CC()\n",
    "c.m1()\n",
    "c.m2()\n",
    "c.m3()"
   ]
  },
  {
   "cell_type": "code",
   "execution_count": 8,
   "metadata": {},
   "outputs": [
    {
     "name": "stdout",
     "output_type": "stream",
     "text": [
      "parent method\n",
      "parent2 method\n",
      "child method\n"
     ]
    }
   ],
   "source": [
    "class P1:\n",
    "    def m1(self):\n",
    "        print(\"parent method\")\n",
    "class P2:\n",
    "    def m2(self):\n",
    "        print(\"parent2 method\")\n",
    "class C(P1,P2):\n",
    "    def m3(self):\n",
    "        print(\"child method\")\n",
    "c=C()\n",
    "c.m1()\n",
    "c.m2()\n",
    "c.m3()"
   ]
  },
  {
   "cell_type": "code",
   "execution_count": null,
   "metadata": {},
   "outputs": [],
   "source": []
  }
 ],
 "metadata": {
  "kernelspec": {
   "display_name": "Python 3",
   "language": "python",
   "name": "python3"
  },
  "language_info": {
   "codemirror_mode": {
    "name": "ipython",
    "version": 3
   },
   "file_extension": ".py",
   "mimetype": "text/x-python",
   "name": "python",
   "nbconvert_exporter": "python",
   "pygments_lexer": "ipython3",
   "version": "3.8.3"
  }
 },
 "nbformat": 4,
 "nbformat_minor": 4
}
